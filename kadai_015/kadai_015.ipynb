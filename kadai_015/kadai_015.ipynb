{
  "nbformat": 4,
  "nbformat_minor": 0,
  "metadata": {
    "colab": {
      "provenance": []
    },
    "kernelspec": {
      "name": "python3",
      "display_name": "Python 3"
    },
    "language_info": {
      "name": "python"
    }
  },
  "cells": [
    {
      "cell_type": "code",
      "execution_count": 8,
      "metadata": {
        "colab": {
          "base_uri": "https://localhost:8080/"
        },
        "id": "Jt0-MrY54NK5",
        "outputId": "d0f718e2-6d83-4d0d-9d45-fb3e8bfda360"
      },
      "outputs": [
        {
          "output_type": "stream",
          "name": "stdout",
          "text": [
            "ヒロト\n",
            "35\n"
          ]
        }
      ],
      "source": [
        "class Human :\n",
        "    def __init__(self, name, age) :\n",
        "        self.name = name\n",
        "        self.age = age\n",
        "\n",
        "    def printinfo(self) :\n",
        "        print(self.name)\n",
        "        print(self.age)\n",
        "\n",
        "hiroto = Human(\"ヒロト\",35)\n",
        "\n",
        "hiroto.printinfo()\n"
      ]
    }
  ]
}