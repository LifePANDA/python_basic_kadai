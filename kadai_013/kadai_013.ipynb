{
  "nbformat": 4,
  "nbformat_minor": 0,
  "metadata": {
    "colab": {
      "provenance": []
    },
    "kernelspec": {
      "name": "python3",
      "display_name": "Python 3"
    },
    "language_info": {
      "name": "python"
    }
  },
  "cells": [
    {
      "cell_type": "code",
      "execution_count": 1,
      "metadata": {
        "colab": {
          "base_uri": "https://localhost:8080/"
        },
        "id": "DiIVYBb6H1IE",
        "outputId": "1f27ae63-1c0a-4ceb-f9c1-b466697398a9"
      },
      "outputs": [
        {
          "output_type": "stream",
          "name": "stdout",
          "text": [
            "121.0\n"
          ]
        }
      ],
      "source": [
        "def total_price(price, tax) :\n",
        "\n",
        "    total = price + (price / 100 * tax)\n",
        "\n",
        "    print(total)\n",
        "\n",
        "total_price(110, 10)"
      ]
    }
  ]
}