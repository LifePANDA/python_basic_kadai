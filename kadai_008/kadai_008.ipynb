{
  "nbformat": 4,
  "nbformat_minor": 0,
  "metadata": {
    "colab": {
      "provenance": []
    },
    "kernelspec": {
      "name": "python3",
      "display_name": "Python 3"
    },
    "language_info": {
      "name": "python"
    }
  },
  "cells": [
    {
      "cell_type": "code",
      "execution_count": 6,
      "metadata": {
        "colab": {
          "base_uri": "https://localhost:8080/"
        },
        "id": "SyNJQVynJjCS",
        "outputId": "d1e7e68b-4eb5-49d2-99e3-bc22c0b43b13"
      },
      "outputs": [
        {
          "output_type": "stream",
          "name": "stdout",
          "text": [
            "0\n",
            "FizzBuzz\n"
          ]
        }
      ],
      "source": [
        "import random\n",
        "\n",
        "var = random.randint(0,100)\n",
        "\n",
        "print(var)\n",
        "\n",
        "if var / 3 == 0 and var / 5 == 0 :\n",
        "    print(\"FizzBuzz\")\n",
        "\n",
        "elif var / 3 == 0 :\n",
        "    print(\"Fizz\")\n",
        "\n",
        "elif var / 5 == 0 :\n",
        "    print(\"Buzz\")\n",
        "\n",
        "else :\n",
        "    print(var)"
      ]
    }
  ]
}