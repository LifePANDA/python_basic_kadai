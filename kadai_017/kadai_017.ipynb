{
  "nbformat": 4,
  "nbformat_minor": 0,
  "metadata": {
    "colab": {
      "provenance": []
    },
    "kernelspec": {
      "name": "python3",
      "display_name": "Python 3"
    },
    "language_info": {
      "name": "python"
    }
  },
  "cells": [
    {
      "cell_type": "code",
      "execution_count": 2,
      "metadata": {
        "colab": {
          "base_uri": "https://localhost:8080/"
        },
        "id": "2tNGMrOAH-0n",
        "outputId": "70d9453b-0af4-4104-d335-09aa8a3fc3db"
      },
      "outputs": [
        {
          "output_type": "stream",
          "name": "stdout",
          "text": [
            "真奈は大人ではない\n",
            "大樹は大人です\n",
            "華は大人です\n"
          ]
        }
      ],
      "source": [
        "class Human :\n",
        "    def __init__(self, name, age) :\n",
        "        self.name = name\n",
        "        self.age = age\n",
        "\n",
        "    def check_adult(self) :\n",
        "        if self.age < 20 :\n",
        "            print(f\"{self.name}は大人ではない\")\n",
        "\n",
        "        else :\n",
        "            print(f\"{self.name}は大人です\")\n",
        "\n",
        "mana = Human(\"真奈\", 18)\n",
        "daiki = Human(\"大樹\", 25)\n",
        "hana = Human(\"華\",32)\n",
        "\n",
        "people = [mana, daiki, hana]\n",
        "\n",
        "for person in people:\n",
        "    person.check_adult()"
      ]
    }
  ]
}