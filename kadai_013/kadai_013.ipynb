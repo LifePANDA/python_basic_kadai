{
  "nbformat": 4,
  "nbformat_minor": 0,
  "metadata": {
    "colab": {
      "provenance": []
    },
    "kernelspec": {
      "name": "python3",
      "display_name": "Python 3"
    },
    "language_info": {
      "name": "python"
    }
  },
  "cells": [
    {
      "cell_type": "code",
      "execution_count": null,
      "metadata": {
        "colab": {
          "base_uri": "https://localhost:8080/"
        },
        "id": "DiIVYBb6H1IE",
        "outputId": "b5f7a749-1e88-4961-a31f-c436ea86944d"
      },
      "outputs": [
        {
          "output_type": "stream",
          "name": "stdout",
          "text": [
            "121.0\n"
          ]
        }
      ],
      "source": [
        "def total_price(price, tax) :\n",
        "\n",
        "    total = price + (price / 100 * tax)\n",
        "    return total\n",
        "\n",
        "result = total_price(110, 10)\n",
        "\n",
        "print(result)"
      ]
    }
  ]
}