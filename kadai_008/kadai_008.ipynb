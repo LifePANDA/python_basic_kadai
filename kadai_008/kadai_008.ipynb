{
  "nbformat": 4,
  "nbformat_minor": 0,
  "metadata": {
    "colab": {
      "provenance": []
    },
    "kernelspec": {
      "name": "python3",
      "display_name": "Python 3"
    },
    "language_info": {
      "name": "python"
    }
  },
  "cells": [
    {
      "cell_type": "code",
      "execution_count": 8,
      "metadata": {
        "colab": {
          "base_uri": "https://localhost:8080/"
        },
        "id": "SyNJQVynJjCS",
        "outputId": "a367a831-be76-41cb-a9ff-862b7906dc89"
      },
      "outputs": [
        {
          "output_type": "stream",
          "name": "stdout",
          "text": [
            "12\n",
            "Fizz\n"
          ]
        }
      ],
      "source": [
        "import random\n",
        "\n",
        "var = random.randint(0,100)\n",
        "\n",
        "print(var)\n",
        "\n",
        "if var / 3 == 0 and var / 5 == 0 :\n",
        "    print(\"FizzBuzz\")\n",
        "\n",
        "elif var % 3 == 0 :\n",
        "    print(\"Fizz\")\n",
        "\n",
        "elif var % 5 == 0 :\n",
        "    print(\"Buzz\")\n",
        "\n",
        "else :\n",
        "    print(var)"
      ]
    }
  ]
}