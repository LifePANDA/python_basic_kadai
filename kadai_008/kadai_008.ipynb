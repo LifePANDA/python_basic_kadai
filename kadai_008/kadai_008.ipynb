{
  "nbformat": 4,
  "nbformat_minor": 0,
  "metadata": {
    "colab": {
      "provenance": []
    },
    "kernelspec": {
      "name": "python3",
      "display_name": "Python 3"
    },
    "language_info": {
      "name": "python"
    }
  },
  "cells": [
    {
      "cell_type": "code",
      "execution_count": 4,
      "metadata": {
        "colab": {
          "base_uri": "https://localhost:8080/"
        },
        "id": "SyNJQVynJjCS",
        "outputId": "ae21ac58-b702-428f-94d7-3c3d36ccf288"
      },
      "outputs": [
        {
          "output_type": "stream",
          "name": "stdout",
          "text": [
            "15\n",
            "FizzBuzz\n"
          ]
        }
      ],
      "source": [
        "import random\n",
        "\n",
        "var = random.randint(1,100)\n",
        "\n",
        "print(var)\n",
        "\n",
        "if var % 3 == 0 and var % 5 == 0 :\n",
        "    print(\"FizzBuzz\")\n",
        "\n",
        "elif var % 3 == 0 :\n",
        "    print(\"Fizz\")\n",
        "\n",
        "elif var % 5 == 0 :\n",
        "    print(\"Buzz\")\n",
        "\n",
        "else :\n",
        "    print(var)"
      ]
    }
  ]
}